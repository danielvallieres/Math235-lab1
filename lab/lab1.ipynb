{
 "cells": [
  {
   "cell_type": "markdown",
   "id": "6c6da440",
   "metadata": {},
   "source": [
    "# Computer Lab 1"
   ]
  },
  {
   "cell_type": "markdown",
   "id": "cf1393d7",
   "metadata": {},
   "source": [
    "The software [SageMath](https://www.sagemath.org) is an open-source (and free) computer algebra system that can be used to perform many calculations in mathematics.  Here, we will use it to make calculations in linear algebra.  Without further ado, let's just dive right into it."
   ]
  },
  {
   "cell_type": "markdown",
   "id": "f7588532",
   "metadata": {},
   "source": [
    "Here is a snippet of code that should be self-explanatory:"
   ]
  },
  {
   "cell_type": "code",
   "execution_count": 1,
   "id": "720b10fc",
   "metadata": {},
   "outputs": [],
   "source": [
    "A = matrix(2,2,[1,3,4,5])\n",
    "B = matrix(2,2,[2,4,3,5])"
   ]
  },
  {
   "cell_type": "code",
   "execution_count": 2,
   "id": "3cde96eb-b2a6-4fed-b25b-e153b7fd9a78",
   "metadata": {},
   "outputs": [
    {
     "data": {
      "text/plain": [
       "[1 3]\n",
       "[4 5]"
      ]
     },
     "execution_count": 2,
     "metadata": {},
     "output_type": "execute_result"
    }
   ],
   "source": [
    "A"
   ]
  },
  {
   "cell_type": "code",
   "execution_count": 3,
   "id": "c6d94e91",
   "metadata": {},
   "outputs": [
    {
     "data": {
      "text/plain": [
       "[2 4]\n",
       "[3 5]"
      ]
     },
     "execution_count": 3,
     "metadata": {},
     "output_type": "execute_result"
    }
   ],
   "source": [
    "B"
   ]
  },
  {
   "cell_type": "markdown",
   "id": "64ad8be8",
   "metadata": {},
   "source": [
    "One can perform the basic algebraic operations on matrices as follows:"
   ]
  },
  {
   "cell_type": "code",
   "execution_count": 4,
   "id": "365656df",
   "metadata": {},
   "outputs": [
    {
     "data": {
      "text/plain": [
       "[ 3  7]\n",
       "[ 7 10]"
      ]
     },
     "execution_count": 4,
     "metadata": {},
     "output_type": "execute_result"
    }
   ],
   "source": [
    "A + B"
   ]
  },
  {
   "cell_type": "code",
   "execution_count": 5,
   "id": "9e318ea4",
   "metadata": {},
   "outputs": [
    {
     "data": {
      "text/plain": [
       "[11 19]\n",
       "[23 41]"
      ]
     },
     "execution_count": 5,
     "metadata": {},
     "output_type": "execute_result"
    }
   ],
   "source": [
    "A * B"
   ]
  },
  {
   "cell_type": "code",
   "execution_count": 6,
   "id": "39d20699",
   "metadata": {},
   "outputs": [
    {
     "data": {
      "text/plain": [
       "[18 26]\n",
       "[23 34]"
      ]
     },
     "execution_count": 6,
     "metadata": {},
     "output_type": "execute_result"
    }
   ],
   "source": [
    "B * A"
   ]
  },
  {
   "cell_type": "markdown",
   "id": "7c55f020",
   "metadata": {},
   "source": [
    "Now, it is your turn to play with Sage.  Consider the following two matrices:\n",
    "\n",
    "$$C = \\begin{pmatrix}1 & 2 & 3 \\\\ 4 & 5 & 6 \\end{pmatrix} \\text{ and } D = \\begin{pmatrix} -3 & 4\\\\ 5 & 6 \\end{pmatrix} $$\n",
    "\n",
    "Based on the examples above, enter those two matrices in SageMath in the cell below."
   ]
  },
  {
   "cell_type": "code",
   "execution_count": null,
   "id": "f58aadba",
   "metadata": {},
   "outputs": [],
   "source": []
  },
  {
   "cell_type": "markdown",
   "id": "4ad3e1d7",
   "metadata": {},
   "source": [
    "Try to calculate $C + D$ in the cell below, and notice what happens."
   ]
  },
  {
   "cell_type": "code",
   "execution_count": null,
   "id": "0bc7c561",
   "metadata": {},
   "outputs": [],
   "source": []
  },
  {
   "cell_type": "markdown",
   "id": "f39fd1a5",
   "metadata": {},
   "source": [
    "As you noticed, SageMath is returning an error message, since these two matrices cannot be added.  On the other hand, go ahead and calculate $D \\cdot C$ in the cell below. "
   ]
  },
  {
   "cell_type": "code",
   "execution_count": null,
   "id": "ac7964c1",
   "metadata": {},
   "outputs": [],
   "source": []
  },
  {
   "cell_type": "markdown",
   "id": "aa695b34-482b-414b-b816-f72cfff35c0c",
   "metadata": {
    "tags": []
   },
   "source": [
    "You can also calculate powers of matrices.  For instance:"
   ]
  },
  {
   "cell_type": "code",
   "execution_count": 7,
   "id": "262122a5-17b2-43dd-b148-41ddb16f9278",
   "metadata": {},
   "outputs": [
    {
     "data": {
      "text/plain": [
       "[ 85 129]\n",
       "[172 257]"
      ]
     },
     "execution_count": 7,
     "metadata": {},
     "output_type": "execute_result"
    }
   ],
   "source": [
    "A^3"
   ]
  },
  {
   "cell_type": "markdown",
   "id": "803429b4",
   "metadata": {},
   "source": [
    "One can check if two matrices are the same by using the `==` symbol:"
   ]
  },
  {
   "cell_type": "code",
   "execution_count": 8,
   "id": "d86a6cd0",
   "metadata": {},
   "outputs": [
    {
     "data": {
      "text/plain": [
       "False"
      ]
     },
     "execution_count": 8,
     "metadata": {},
     "output_type": "execute_result"
    }
   ],
   "source": [
    "A == B"
   ]
  },
  {
   "cell_type": "code",
   "execution_count": 9,
   "id": "cfd729ee",
   "metadata": {},
   "outputs": [
    {
     "data": {
      "text/plain": [
       "True"
      ]
     },
     "execution_count": 9,
     "metadata": {},
     "output_type": "execute_result"
    }
   ],
   "source": [
    "A == A"
   ]
  },
  {
   "cell_type": "markdown",
   "id": "935ffd61-011c-4611-9823-5211607e9360",
   "metadata": {},
   "source": [
    "For instance, we can ask SageMath:"
   ]
  },
  {
   "cell_type": "code",
   "execution_count": 10,
   "id": "64efb4f5-a414-42d2-8abb-c197f7b5156d",
   "metadata": {},
   "outputs": [
    {
     "data": {
      "text/plain": [
       "False"
      ]
     },
     "execution_count": 10,
     "metadata": {},
     "output_type": "execute_result"
    }
   ],
   "source": [
    "(A+B)^2 == A^2 + 2*A*B + B^2"
   ]
  },
  {
   "cell_type": "markdown",
   "id": "f91e2517-58e8-4f32-acc8-b0f6a3c2d6be",
   "metadata": {},
   "source": [
    "Indeed, on one hand we have"
   ]
  },
  {
   "cell_type": "code",
   "execution_count": 11,
   "id": "6dd1142a-7a11-4399-af54-17e2a7edf3e6",
   "metadata": {},
   "outputs": [
    {
     "data": {
      "text/plain": [
       "[ 58  91]\n",
       "[ 91 149]"
      ]
     },
     "execution_count": 11,
     "metadata": {},
     "output_type": "execute_result"
    }
   ],
   "source": [
    "(A+B)^2"
   ]
  },
  {
   "cell_type": "markdown",
   "id": "4889b6d7-05b1-4e27-87cc-f71d16b3b764",
   "metadata": {},
   "source": [
    "and on the other hand, we have"
   ]
  },
  {
   "cell_type": "code",
   "execution_count": 12,
   "id": "06340983-08d3-414f-ac4e-4d391d0a2549",
   "metadata": {},
   "outputs": [
    {
     "data": {
      "text/plain": [
       "[ 51  84]\n",
       "[ 91 156]"
      ]
     },
     "execution_count": 12,
     "metadata": {},
     "output_type": "execute_result"
    }
   ],
   "source": [
    "A^2 + 2*A*B + B^2"
   ]
  },
  {
   "cell_type": "markdown",
   "id": "eb960bac-5d04-4988-b241-f91b388b497e",
   "metadata": {},
   "source": [
    "But we already knew that, since $A \\cdot B \\neq B \\cdot A$ as we calculated above.  SageMath can be used to check if a square matrix is invertible:"
   ]
  },
  {
   "cell_type": "code",
   "execution_count": 13,
   "id": "8f59bf0c-4412-443c-8010-01231928671f",
   "metadata": {},
   "outputs": [
    {
     "data": {
      "text/plain": [
       "False"
      ]
     },
     "execution_count": 13,
     "metadata": {},
     "output_type": "execute_result"
    }
   ],
   "source": [
    "A.is_invertible()"
   ]
  },
  {
   "cell_type": "markdown",
   "id": "20958126-a9f1-45cc-99fd-bb0d5833c100",
   "metadata": {},
   "source": [
    "Wait, what?  \n",
    "\n",
    "What happened in this last example is that when we entered the matrix $A$, we did not specified what numbers we are working with, so SageMath thinks the entries in this matrix are integers.  But for that command to work properly, we have to tell SageMath what kind of numbers we are working with.  So far in this class, we have been working over $\\mathbb{R}$, the *field* of real numbers.  That is why I am using the notation $M_{m \\times n}(\\mathbb{R})$ for the collection of all $m \\times n$ matrices with *real* entries.  In fact, one can do linear algebra over any field, not just $\\mathbb{R}$.  (I encourage you to go ahead and read on the notion of [field](https://en.wikipedia.org/wiki/Field_(mathematics)).)  We have used under the rugs a few properties of $\\mathbb{R}$, but the main reason why it is a field is that every nonzero element has a multiplicative inverse.  The collection $\\mathbb{Q}$ of all rational numbers is also a field, and so is the collection $\\mathbb{C}$ of all complex numbers.  \n",
    "\n",
    "Let's redefine the matrix $A$, but now we will tell SageMath that the entries are in $\\mathbb{Q}$ (which is denoted simply by QQ in SageMath).  We work with $\\mathbb{Q}$ here simply to avoid working with floating points and decimal expansions."
   ]
  },
  {
   "cell_type": "code",
   "execution_count": 14,
   "id": "8637f415-d147-48d2-979a-a38a1c576b69",
   "metadata": {},
   "outputs": [
    {
     "data": {
      "text/plain": [
       "[1 3]\n",
       "[4 5]"
      ]
     },
     "execution_count": 14,
     "metadata": {},
     "output_type": "execute_result"
    }
   ],
   "source": [
    "A = matrix(QQ,2,2,[1,3,4,5])\n",
    "A"
   ]
  },
  {
   "cell_type": "markdown",
   "id": "f481a4e1-9137-4a9a-99b1-43ec87a3d9ef",
   "metadata": {},
   "source": [
    "And let's check again if it is invertible:"
   ]
  },
  {
   "cell_type": "code",
   "execution_count": 15,
   "id": "b387f202-5c05-4d5d-b159-fa43f66808a4",
   "metadata": {},
   "outputs": [
    {
     "data": {
      "text/plain": [
       "True"
      ]
     },
     "execution_count": 15,
     "metadata": {},
     "output_type": "execute_result"
    }
   ],
   "source": [
    "A.is_invertible()"
   ]
  },
  {
   "cell_type": "markdown",
   "id": "93937dd9-207b-4b60-8964-1ea48c4b3f88",
   "metadata": {},
   "source": [
    "This time, we got the expected answer.  The inverse can also be calculated:"
   ]
  },
  {
   "cell_type": "code",
   "execution_count": 16,
   "id": "e57f3b2a-eaf3-4042-8bf0-b6309192bcfb",
   "metadata": {},
   "outputs": [
    {
     "data": {
      "text/plain": [
       "[-5/7  3/7]\n",
       "[ 4/7 -1/7]"
      ]
     },
     "execution_count": 16,
     "metadata": {},
     "output_type": "execute_result"
    }
   ],
   "source": [
    "A^(-1)"
   ]
  },
  {
   "cell_type": "markdown",
   "id": "d0f6b705-8499-492c-981d-20fb3bbc756b",
   "metadata": {},
   "source": [
    "We could double check our answer:"
   ]
  },
  {
   "cell_type": "code",
   "execution_count": 17,
   "id": "5b3683e9-ca19-4701-ab67-ed445c41ac8d",
   "metadata": {},
   "outputs": [
    {
     "data": {
      "text/plain": [
       "[1 0]\n",
       "[0 1]"
      ]
     },
     "execution_count": 17,
     "metadata": {},
     "output_type": "execute_result"
    }
   ],
   "source": [
    "A * A^(-1)"
   ]
  },
  {
   "cell_type": "markdown",
   "id": "d313041d-ebfc-4f23-8a6c-431d3d640463",
   "metadata": {},
   "source": [
    "and"
   ]
  },
  {
   "cell_type": "code",
   "execution_count": 18,
   "id": "d57fd4c7-aa4a-4ea1-ae71-38f7689d2cc4",
   "metadata": {},
   "outputs": [
    {
     "data": {
      "text/plain": [
       "[1 0]\n",
       "[0 1]"
      ]
     },
     "execution_count": 18,
     "metadata": {},
     "output_type": "execute_result"
    }
   ],
   "source": [
    "A^(-1) * A"
   ]
  },
  {
   "cell_type": "markdown",
   "id": "ad1f58fb-6644-4e3f-95ae-579396d6dd62",
   "metadata": {},
   "source": [
    "In class, we saw that a square matrix is invertible if and only if its determinant is nonzero.  The determinant of a square matrix can also be calculated:"
   ]
  },
  {
   "cell_type": "code",
   "execution_count": 19,
   "id": "07afd7ca-aa69-40a7-b147-7a4faff585fc",
   "metadata": {},
   "outputs": [
    {
     "data": {
      "text/plain": [
       "-7"
      ]
     },
     "execution_count": 19,
     "metadata": {},
     "output_type": "execute_result"
    }
   ],
   "source": [
    "A.determinant()"
   ]
  },
  {
   "cell_type": "markdown",
   "id": "3eb79c6e-4e76-4fcb-88a0-1a2ac852d874",
   "metadata": {},
   "source": [
    "Now go ahead and enter the matrix $$E = \\begin{pmatrix}1 & 3 & 3 & -1 & 5\\\\-1 & 1 & 3 & -1 & 5\\\\8 & -7 & 5 & -1 & 100\\\\3 & 2 & -10 & -1 & 5\\\\-5 & 2 & 3 & -1 & 4 \\end{pmatrix} $$ in SageMath in the cell below."
   ]
  },
  {
   "cell_type": "code",
   "execution_count": null,
   "id": "def2edea-6989-46c7-93cf-44de15eacfc6",
   "metadata": {},
   "outputs": [],
   "source": []
  },
  {
   "cell_type": "markdown",
   "id": "c741fc19-e16b-4ee0-8f72-18b601ebeac7",
   "metadata": {},
   "source": [
    "Calculate its determinant in the cell below."
   ]
  },
  {
   "cell_type": "code",
   "execution_count": null,
   "id": "d42165db-2878-4142-85e7-6580ad0535c5",
   "metadata": {},
   "outputs": [],
   "source": []
  },
  {
   "cell_type": "markdown",
   "id": "b56ca480-100f-45eb-949e-dd4a1f11addf",
   "metadata": {},
   "source": [
    "Calculate its inverse in the cell below."
   ]
  },
  {
   "cell_type": "code",
   "execution_count": null,
   "id": "ded796ff-e992-4a05-ac1e-5eabbd645ee5",
   "metadata": {},
   "outputs": [],
   "source": []
  },
  {
   "cell_type": "markdown",
   "id": "c8b644f2-35db-4d78-a231-69a864dbf5e6",
   "metadata": {},
   "source": [
    "And calculate the $4$th power of $E$ in the cell below as well."
   ]
  },
  {
   "cell_type": "code",
   "execution_count": null,
   "id": "5a2b8219-40d7-49bf-8d37-ee4fae4f60b6",
   "metadata": {},
   "outputs": [],
   "source": []
  },
  {
   "cell_type": "markdown",
   "id": "1605434f-13ee-43e4-b351-9bcccef09ff0",
   "metadata": {},
   "source": [
    "As you can see, SageMath can used to perform basic algebraic operations on matrices.  But it can also row reduce matrices.  For that, we have again to specify over which field we are working.  "
   ]
  },
  {
   "cell_type": "code",
   "execution_count": 20,
   "id": "20589fc7-f29d-4cc5-94e2-f3762af0798a",
   "metadata": {},
   "outputs": [
    {
     "data": {
      "text/plain": [
       "[1 2 3]\n",
       "[4 5 6]"
      ]
     },
     "execution_count": 20,
     "metadata": {},
     "output_type": "execute_result"
    }
   ],
   "source": [
    "C = matrix(QQ,2,3,[1,2,3,4,5,6])\n",
    "C"
   ]
  },
  {
   "cell_type": "code",
   "execution_count": 21,
   "id": "0449ddc9-c6cd-4b93-99e4-1e2fc2f3d399",
   "metadata": {},
   "outputs": [
    {
     "data": {
      "text/plain": [
       "[ 1  0 -1]\n",
       "[ 0  1  2]"
      ]
     },
     "execution_count": 21,
     "metadata": {},
     "output_type": "execute_result"
    }
   ],
   "source": [
    "C.rref()"
   ]
  },
  {
   "cell_type": "markdown",
   "id": "92bf699a-c45c-49e0-ba20-8374b57f3db0",
   "metadata": {},
   "source": [
    "A matrix can be augmented of another matrix.  For instance, we augment the earlier matrix $A$ with the $2 \\times 2$ identity matrix:"
   ]
  },
  {
   "cell_type": "code",
   "execution_count": 22,
   "id": "ef33cad6-9705-4ccb-b33f-2bf0ea1ef752",
   "metadata": {},
   "outputs": [
    {
     "data": {
      "text/plain": [
       "[1 3 1 0]\n",
       "[4 5 0 1]"
      ]
     },
     "execution_count": 22,
     "metadata": {},
     "output_type": "execute_result"
    }
   ],
   "source": [
    "F = A.augment(identity_matrix(2))\n",
    "F"
   ]
  },
  {
   "cell_type": "markdown",
   "id": "bcdc4324-e3b5-469c-82ea-13c6d780f050",
   "metadata": {},
   "source": [
    "As we know, if we row reduce this matrix, we should obtain the inverse instead of the identity matrix in the augmented part of the matrix:"
   ]
  },
  {
   "cell_type": "code",
   "execution_count": 23,
   "id": "9725adc5-8575-4ffa-a5e7-92ea201c7b53",
   "metadata": {},
   "outputs": [
    {
     "data": {
      "text/plain": [
       "[   1    0 -5/7  3/7]\n",
       "[   0    1  4/7 -1/7]"
      ]
     },
     "execution_count": 23,
     "metadata": {},
     "output_type": "execute_result"
    }
   ],
   "source": [
    "F.rref()"
   ]
  },
  {
   "cell_type": "markdown",
   "id": "c77b4a8c-d8f0-475d-89b5-5d55ea106264",
   "metadata": {},
   "source": [
    "and indeed, one has"
   ]
  },
  {
   "cell_type": "code",
   "execution_count": 24,
   "id": "a1632809-3274-4bb0-889f-9692d98531d9",
   "metadata": {},
   "outputs": [
    {
     "data": {
      "text/plain": [
       "[-5/7  3/7]\n",
       "[ 4/7 -1/7]"
      ]
     },
     "execution_count": 24,
     "metadata": {},
     "output_type": "execute_result"
    }
   ],
   "source": [
    "A^(-1)"
   ]
  },
  {
   "cell_type": "markdown",
   "id": "381e7220-6694-4a5e-959f-0c63ef088230",
   "metadata": {},
   "source": [
    "Go ahead and augment the matrix $E$ from above with the identity matrix.  Call the resulting matrix $G$."
   ]
  },
  {
   "cell_type": "code",
   "execution_count": null,
   "id": "d2cd0677-0c3f-49e3-bd4f-f0c98d06467d",
   "metadata": {},
   "outputs": [],
   "source": []
  },
  {
   "cell_type": "markdown",
   "id": "b81f5947-6593-49be-8711-bcf4906a1662",
   "metadata": {},
   "source": [
    "Then, row reduce this augmented matrix $G$ to see if you get the same inverse as you calculated earlier."
   ]
  },
  {
   "cell_type": "code",
   "execution_count": null,
   "id": "a97cfef4-8e16-4224-86c7-748fab65699f",
   "metadata": {},
   "outputs": [],
   "source": []
  },
  {
   "cell_type": "markdown",
   "id": "d9d3557c-070a-4104-8aa1-447e523153c8",
   "metadata": {},
   "source": [
    "Consider now the system of linear equations $$\\begin{aligned}2x + 4y &= 2 \\\\x + 2y &= 1 \\end{aligned}$$ There are many ways to solve this system of linear equations.  One way is as follows:"
   ]
  },
  {
   "cell_type": "code",
   "execution_count": 25,
   "id": "3bd081b4-4f04-4d76-9ae9-0577e738db0b",
   "metadata": {},
   "outputs": [
    {
     "data": {
      "text/plain": [
       "[[x == -2*r1 + 1, y == r1]]"
      ]
     },
     "execution_count": 25,
     "metadata": {},
     "output_type": "execute_result"
    }
   ],
   "source": [
    "x,y = var('x,y')\n",
    "solve([2*x + 4*y ==2, x + 2*y == 1],[x,y])"
   ]
  },
  {
   "cell_type": "markdown",
   "id": "7c500285-7410-417b-adb8-521869078f0e",
   "metadata": {},
   "source": [
    "You can also form the augmented matrix corresponding to the system of linear equations, and row reduce the matrix:"
   ]
  },
  {
   "cell_type": "code",
   "execution_count": 26,
   "id": "2722a12b-1a88-46ac-bcb8-902cb42626cb",
   "metadata": {},
   "outputs": [
    {
     "data": {
      "text/plain": [
       "[1 2 1]\n",
       "[0 0 0]"
      ]
     },
     "execution_count": 26,
     "metadata": {},
     "output_type": "execute_result"
    }
   ],
   "source": [
    "H = matrix(QQ,2,2,[2,4,1,2])\n",
    "I = matrix(QQ,2,1,[2,1])\n",
    "J = H.augment(I)\n",
    "J.rref()"
   ]
  },
  {
   "cell_type": "markdown",
   "id": "a6e24289-68cd-416c-bd22-738394dea52f",
   "metadata": {},
   "source": [
    "If we call our free variable r1, we get the same thing as in the previous calculation.\n",
    "\n",
    "Now, go ahead and solve the system of linear equations $$\\begin{aligned} -x_{2} - x_{3} + x_{4} &=0 \\\\x_{1} + x_{2} +x_{3} +x_{4} &= 6 \\\\2x_{1} + 4x_{2}+x_{3}-2x_{4} &= -1 \\\\ 3x_{1} + x_{2} - 2x_{3} + 2x_{4} &=3\\end{aligned} $$"
   ]
  },
  {
   "cell_type": "code",
   "execution_count": null,
   "id": "8b7fb0b0-aa0e-435c-afa3-bed445fa7e6b",
   "metadata": {},
   "outputs": [],
   "source": []
  },
  {
   "cell_type": "markdown",
   "id": "dbf05cc1-696f-44e2-a4ea-8eda3715ec61",
   "metadata": {},
   "source": [
    "Linear algebra has many applications to computer science, social sciences, engineering, etc.  For now, let just look a simple one coming from [network theory](https://en.wikipedia.org/wiki/Network_theory#:~:text=In%20mathematics%2C%20computer%20science%20and,between%20their%20(discrete)%20components.).  A network can be represented by a graph which is just a collection of vertices and edges such as in the following example:"
   ]
  },
  {
   "attachments": {
    "649cb887-cac8-436d-a34c-f9141d50e3c6.png": {
     "image/png": "[encoded data removed]"
    }
   },
   "cell_type": "markdown",
   "id": "7c2114c9-02a4-4aa1-83be-6ddc1cce77f6",
   "metadata": {
    "tags": []
   },
   "source": [
    "![Screenshot 2023-10-01 at 7.38.22 PM.png](attachment:649cb887-cac8-436d-a34c-f9141d50e3c6.png)"
   ]
  },
  {
   "cell_type": "markdown",
   "id": "6ce535de-c186-4d39-8d79-0041e4f4d818",
   "metadata": {},
   "source": [
    "In the graph above (called the [complete graph](https://en.wikipedia.org/wiki/Complete_graph) on four vertices), there are four vertices and six edges.  In order to study the properties of a graph, one associates several matrices.  In order to do so, one has to label the vertices.  For the graph above, let's start with the top left vertex and label it $v_{1}$, then let's label the other vertices $v_{2}, v_{3}, v_{4}$ going in the clockwise direction.  The *adjacency* matrix associated to a graph is the matrix $A = (a_{ij})$, where $a_{ij} = 1$ if there is an edge connecting the vertex $v_{i}$ to the vertex $v_{j}$, and $a_{ij} = 0$ otherwise.\n",
    "\n",
    "For the graph above, its adjacency matrix is $$\\begin{pmatrix} 0 & 1 & 1 & 1 \\\\ 1 & 0 & 1 & 1 \\\\ 1 & 1 & 0 & 1 \\\\ 1 & 1 & 1 & 0 \\end{pmatrix}$$"
   ]
  },
  {
   "cell_type": "markdown",
   "id": "afa62562-03b7-4869-bc5c-b67ef543ae25",
   "metadata": {},
   "source": [
    "A path in a graph is a sequence of vertices that are connected via edges.  For instance, in the graph above one can look at the path $v_{1} \\to v_{3} \\to v_{4} \\to v_{2}$ which is a path of length four, since there are four edges to construct the path.  Another example of a path of length $3$ from $v_{1}$ to $v_{2}$ is given by $v_{1} \\to v_{4} \\to v_{1} \\to v_{2}$.  It is a theorem that the number of paths of length $m$ from the vertex $v_{i}$ to $v_{j}$ is the $(i,j)$ entry of the matrix $A^{m}$.  For instance, we calculate:"
   ]
  },
  {
   "cell_type": "code",
   "execution_count": 27,
   "id": "fed4c0a3-007f-4ae0-ad3e-16c71bec01ab",
   "metadata": {},
   "outputs": [
    {
     "data": {
      "text/plain": [
       "[6 7 7 7]\n",
       "[7 6 7 7]\n",
       "[7 7 6 7]\n",
       "[7 7 7 6]"
      ]
     },
     "execution_count": 27,
     "metadata": {},
     "output_type": "execute_result"
    }
   ],
   "source": [
    "A = matrix(QQ,4,4,[0,1,1,1,1,0,1,1,1,1,0,1,1,1,1,0])\n",
    "A^3"
   ]
  },
  {
   "cell_type": "markdown",
   "id": "d0e633b7-50d9-4a8b-80da-68bdec6b2814",
   "metadata": {},
   "source": [
    "Therefore, there should be $7$ paths of length $3$ between $v_{1}$ and $v_{2}$.  We found two above.  Can you find the five remaining ones on a separate piece of paper?  (You don't have to turn this in.  But do it for yourself.)"
   ]
  },
  {
   "cell_type": "markdown",
   "id": "2adb2f84-1a0c-4654-b107-0ddd18680860",
   "metadata": {},
   "source": [
    "Another matrix associated to a graph is the *degree* matrix.  The degree of a vertex is the number of edges connecting that vertex to any other one.  For instance, there are four edges coming into the vertex $v_{1}$ of the graph above, so the degree of $v_{1}$, denoted by ${\\rm deg}(v_{1})$, is $3$.  In fact, one has ${\\rm deg}(v_{i}) = 3$ for $i=1,2,3,4$.  The *degree* matrix associated to a graph is the diagonal matrix $D = (d_{ij})$, where $d_{ii} = {\\rm deg}(v_{i})$.\n",
    "\n",
    "For instance, the degree matrix of the graph above is $$\\begin{pmatrix}3 & 0 & 0 & 0 \\\\ 0 & 3 & 0 & 0 \\\\0 & 0 & 3 & 0 \\\\ 0 & 0 & 0 & 3 \\end{pmatrix}$$\n",
    "\n",
    "The *Laplacian* matrix of the graph is $L = D - A$.  For the graph above, we calculate the Laplacian matrix:"
   ]
  },
  {
   "cell_type": "code",
   "execution_count": 28,
   "id": "ba142f3e-bcbc-4770-a955-b071b681713a",
   "metadata": {},
   "outputs": [
    {
     "data": {
      "text/plain": [
       "[ 3 -1 -1 -1]\n",
       "[-1  3 -1 -1]\n",
       "[-1 -1  3 -1]\n",
       "[-1 -1 -1  3]"
      ]
     },
     "execution_count": 28,
     "metadata": {},
     "output_type": "execute_result"
    }
   ],
   "source": [
    "D = matrix(QQ,4,4,[3,0,0,0,0,3,0,0,0,0,3,0,0,0,0,3])\n",
    "L = D - A\n",
    "L"
   ]
  },
  {
   "attachments": {
    "bc246cdd-bc9f-4a91-807e-386d83dc85ac.png": {
     "image/png": "[encoded data removed]"
    }
   },
   "cell_type": "markdown",
   "id": "de507d75-40ef-4fd7-89d0-1c96722a1265",
   "metadata": {},
   "source": [
    "A tree is a particular type of graphs that has no circuit as subgraphs. (A circuit is a circle with as many vertices as one would like on the circumference.)  A *spanning tree* of a graph is a subgraph that is a tree and which includes all vertices of the original graph.  For instance, the spanning trees of the graph above are:\n",
    "\n",
    "![Screenshot 2023-10-01 at 8.13.04 PM.png](attachment:bc246cdd-bc9f-4a91-807e-386d83dc85ac.png)"
   ]
  },
  {
   "cell_type": "markdown",
   "id": "762fe19b-9157-49f1-b89f-6fa848af5cde",
   "metadata": {},
   "source": [
    "Thus, there are $16$ of them.  A famous [theorem](https://en.wikipedia.org/wiki/Kirchhoff%27s_theorem) states that if $\\kappa$ denotes the number of spanning trees of a graph, then $${\\rm adj}(L) = \\kappa \\cdot J,$$ where $J$ is the matrix consisting of $1$'s in each entry.\n",
    "\n",
    "For instance, for the graph above, we have:"
   ]
  },
  {
   "cell_type": "code",
   "execution_count": 29,
   "id": "9a28a264-74c2-497e-ad26-0182d2544a4e",
   "metadata": {},
   "outputs": [
    {
     "data": {
      "text/plain": [
       "[16 16 16 16]\n",
       "[16 16 16 16]\n",
       "[16 16 16 16]\n",
       "[16 16 16 16]"
      ]
     },
     "execution_count": 29,
     "metadata": {},
     "output_type": "execute_result"
    }
   ],
   "source": [
    "L.adjugate()"
   ]
  },
  {
   "attachments": {
    "b6fe1b3f-c0bb-4f4c-9a50-20c6fd57ab46.png": {
     "image/png": "[encoded data removed]"
    }
   },
   "cell_type": "markdown",
   "id": "08a32942-6456-4705-83d4-d5271c3cc113",
   "metadata": {},
   "source": [
    "Consider now the following graph\n",
    "\n",
    "![The-Petersen-graph-The-depicted-labeled-graph-is-not-LUequivalent-to-the-graph-which-is.png](attachment:b6fe1b3f-c0bb-4f4c-9a50-20c6fd57ab46.png)"
   ]
  },
  {
   "cell_type": "markdown",
   "id": "16ba1b9d-eef7-4844-b32a-81ba9a90d520",
   "metadata": {},
   "source": [
    "Go ahead and find its adjacency matrix in the cell below.  Call it $R$."
   ]
  },
  {
   "cell_type": "code",
   "execution_count": null,
   "id": "31f9d8cc-3070-445f-b025-025208fd4414",
   "metadata": {},
   "outputs": [],
   "source": []
  },
  {
   "cell_type": "markdown",
   "id": "dab9a633-0370-42f7-8da6-a23b2942e0f6",
   "metadata": {},
   "source": [
    "Then, calculate its degree matrix, and call it $S$."
   ]
  },
  {
   "cell_type": "code",
   "execution_count": null,
   "id": "98508143-914e-4b1c-8a22-b5f28c68c40d",
   "metadata": {},
   "outputs": [],
   "source": []
  },
  {
   "cell_type": "markdown",
   "id": "34695a19-990e-4563-a4cb-b2c9a43966b2",
   "metadata": {},
   "source": [
    "At last, calculate its Laplacian matrix, and call it $T$."
   ]
  },
  {
   "cell_type": "code",
   "execution_count": null,
   "id": "c97127fe-49fd-46c7-a003-c5be1c6528cf",
   "metadata": {},
   "outputs": [],
   "source": []
  },
  {
   "cell_type": "markdown",
   "id": "99499ef3-b0e3-48fa-96a0-ed591682a6aa",
   "metadata": {},
   "source": [
    "How many paths of length $10$ are there between the vertex labeled $3$ and the vertex labeled $9$?  Use the next cell to perform the needed calculation.  Then, in the second cell right below, write down your answer.  Just the number suffice."
   ]
  },
  {
   "cell_type": "code",
   "execution_count": null,
   "id": "6aac91aa-f576-4bdb-a062-304f4d112a9d",
   "metadata": {},
   "outputs": [],
   "source": []
  },
  {
   "cell_type": "markdown",
   "id": "2cd7d726-0eb9-4f6c-a229-7156a8962d1f",
   "metadata": {},
   "source": []
  },
  {
   "cell_type": "markdown",
   "id": "1034249d-d72f-4e39-9de2-049f8f6062d4",
   "metadata": {},
   "source": [
    "How many spanning trees does this graph has??  Again, perform your calculation in the cell below, and write down your answer in the second cell."
   ]
  },
  {
   "cell_type": "code",
   "execution_count": null,
   "id": "c50fc09c-9e3c-4a64-837e-b19d2a5dbe29",
   "metadata": {},
   "outputs": [],
   "source": []
  },
  {
   "cell_type": "markdown",
   "id": "b40475f4-4205-4ce2-a9e1-0c81bec2e5d9",
   "metadata": {},
   "source": []
  }
 ],
 "metadata": {
  "kernelspec": {
   "display_name": "SageMath 9.6",
   "language": "sage",
   "name": "sagemath-9.6"
  },
  "language_info": {
   "codemirror_mode": {
    "name": "ipython",
    "version": 3
   },
   "file_extension": ".py",
   "mimetype": "text/x-python",
   "name": "python",
   "nbconvert_exporter": "python",
   "pygments_lexer": "ipython3",
   "version": "3.10.3"
  }
 },
 "nbformat": 4,
 "nbformat_minor": 5
}
